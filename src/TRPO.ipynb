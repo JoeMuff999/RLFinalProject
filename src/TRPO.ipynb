{
 "cells": [
  {
   "cell_type": "code",
   "execution_count": 1,
   "metadata": {},
   "outputs": [],
   "source": [
    "# first, let us create our inputs\n",
    "import gym \n",
    "from nn import PolicyNN, ValueNN\n",
    "\n",
    "# lets get our environment\n",
    "env = gym.make(\"CartPole-v1\")\n",
    "\n",
    "# Policy parameters (NN) = \"theta\". 2 hidden layers w/ 32 nodes. softmax output for each action\n",
    "theta = PolicyNN(\n",
    "    env.observation_space.shape[0],\n",
    "    2,\n",
    "    32,\n",
    "    env.action_space.n\n",
    "    )\n",
    "\n",
    "# Value function parameters (NN) = \"V\". outputs value of state (scalar)\n",
    "V = ValueNN(\n",
    "    env.observation_space.shape[0],\n",
    "    2,\n",
    "    32,\n",
    "    1\n",
    ")"
   ]
  }
 ],
 "metadata": {
  "interpreter": {
   "hash": "bfc5e705b253edb9a4db6e444ecc815b4e3b76e07f807b8daf8ca08e934c3f1c"
  },
  "kernelspec": {
   "display_name": "Python 3.8.9 ('myenv': venv)",
   "language": "python",
   "name": "python3"
  },
  "language_info": {
   "codemirror_mode": {
    "name": "ipython",
    "version": 3
   },
   "file_extension": ".py",
   "mimetype": "text/x-python",
   "name": "python",
   "nbconvert_exporter": "python",
   "pygments_lexer": "ipython3",
   "version": "3.8.9"
  },
  "orig_nbformat": 4
 },
 "nbformat": 4,
 "nbformat_minor": 2
}
